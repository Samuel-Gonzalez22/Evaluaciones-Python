{
  "cells": [
    {
      "cell_type": "markdown",
      "metadata": {
        "id": "view-in-github",
        "colab_type": "text"
      },
      "source": [
        "<a href=\"https://colab.research.google.com/github/Samuel-Gonzalez22/Evaluaciones-Python/blob/main/Evaluaci%C3%B3n_1.ipynb\" target=\"_parent\"><img src=\"https://colab.research.google.com/assets/colab-badge.svg\" alt=\"Open In Colab\"/></a>"
      ]
    },
    {
      "cell_type": "markdown",
      "source": [
        "# Evaluación 1\n",
        "## Python Aplicado a la Ingeniería 202520\n",
        "\n",
        "**Docente:** Miguel Ortiz\n",
        "\n",
        "**Estudiante:** Samuel González\n",
        "\n",
        "**Correo:** samuel.gonzalezn@upb.edu.co\n",
        "\n",
        "**Fecha:** 30/07/25"
      ],
      "metadata": {
        "id": "wp3spMZnR0WX"
      }
    },
    {
      "cell_type": "markdown",
      "source": [
        "**Problem #1: letter_frequency**\n",
        "\n",
        "Write a program that receives a sentence from the user and displays how many times each unique letter appears. Ignore spaces and make the comparison case-insensitive."
      ],
      "metadata": {
        "id": "wJPYqbW0VWQq"
      }
    },
    {
      "cell_type": "code",
      "source": [
        "# Inputs\n",
        "# Pedir al usuario que ingrese una oración\n",
        "sentence = input(\"Enter a sentence: \")\n",
        "\n",
        "# Process\n",
        "sentence = sentence.lower()\n",
        "\n",
        "# Función auxiliar para usar como clave de ordenamiento\n",
        "def sentence_count(item):\n",
        "    return item[1]\n",
        "\n",
        "# Función principal que cuenta las letras\n",
        "def letter_frequency():\n",
        "    frequency = {} # Diccionario para almacenar la frecuencia de cada letra\n",
        "    for letter in sentence:\n",
        "      if letter.isalpha(): # Ignora espacios y signos de puntuación\n",
        "        if letter in frequency:\n",
        "            frequency[letter] += 1\n",
        "        else:\n",
        "            frequency[letter] = 1\n",
        "\n",
        "    items = list(frequency.items())\n",
        "    sorted_items = sorted(items, key=sentence_count, reverse=True)\n",
        "    return sorted_items\n",
        "\n",
        "result = letter_frequency()\n",
        "\n",
        "# Outputs\n",
        "# Mostramos el resultado ordenado de mayor a menor frecuencia\n",
        "print(\"Letter frequencies (from most to least frequent):\")\n",
        "for letter, count in result:\n",
        "    print(f\"{letter}: {count}\")"
      ],
      "metadata": {
        "id": "tZNfqwLyVlhX"
      },
      "execution_count": null,
      "outputs": []
    },
    {
      "cell_type": "markdown",
      "source": [
        "**Problem #2: word_initial_count**\n",
        "\n",
        "Write a program that receives a list of words and counts how many of them start with the same initial letter. Ignore case sensitivity."
      ],
      "metadata": {
        "id": "ECgKduaRdLUs"
      }
    },
    {
      "cell_type": "code",
      "source": [
        "# Inputs\n",
        "# Crear una lista de palabras\n",
        "words = [\"heads\", \"summer\", \"safe\", \"guard\", \"state\", \"heaven\", \"black\", \"widow\", \"war\"]\n",
        "\n",
        "# Process\n",
        "# Función que cuenta cuántas palabras comienzan con cada letra\n",
        "def word_initial_count(words):\n",
        "    initial_counts = {}\n",
        "    for word in words:\n",
        "        if word:\n",
        "            first_letter = word[0].lower() #Colocar la primera letra en mínuscula si es necesario\n",
        "            if first_letter in initial_counts:\n",
        "                initial_counts[first_letter] += 1\n",
        "            else:\n",
        "                initial_counts[first_letter] = 1\n",
        "    return initial_counts\n",
        "\n",
        "counts = word_initial_count(words)\n",
        "\n",
        "# Outputs\n",
        "print(\"Initial letter counts:\")\n",
        "for initial in sorted(counts):\n",
        "    print(f\"{initial.lower()}: {counts[initial]}\")"
      ],
      "metadata": {
        "id": "fKcLXHzEd8Iv",
        "colab": {
          "base_uri": "https://localhost:8080/"
        },
        "outputId": "8c18f034-5550-493e-8ee6-27c0e28af2da"
      },
      "execution_count": null,
      "outputs": [
        {
          "output_type": "stream",
          "name": "stdout",
          "text": [
            "Initial letter counts:\n",
            "b: 1\n",
            "g: 1\n",
            "h: 2\n",
            "s: 3\n",
            "w: 2\n"
          ]
        }
      ]
    },
    {
      "cell_type": "markdown",
      "source": [
        "**Problem #3: product_price_analysis**\n",
        "\n",
        "Write a program that receives a dictionary of products. Each product has a unique code as key, and its value is another dictionary containing a `'name'` and a `'price'`. The program should display the name and price of the cheapest and the most expensive product."
      ],
      "metadata": {
        "id": "6hknEClreKP1"
      }
    },
    {
      "cell_type": "code",
      "source": [
        "# Inputs\n",
        "# Crear un diccionario de productos con nombre y precio\n",
        "products = {\n",
        "    \"P01\": {\"name\": \"Celular\", \"price\": 450},\n",
        "    \"P02\": {\"name\": \"Tablet\", \"price\": 600},\n",
        "    \"P03\": {\"name\": \"Computador\", \"price\": 520},\n",
        "    \"P04\": {\"name\": \"Audífonos\", \"price\": 60}\n",
        "}\n",
        "\n",
        "# Process\n",
        "def get_price(product):\n",
        "    return product[1]\n",
        "\n",
        "def product_price_analysis(product_dict):\n",
        "    product_list = [] # Lista para guardar tuplas (nombre, precio)\n",
        "    for data in product_dict.values():\n",
        "        product_list.append((data[\"name\"], data[\"price\"]))\n",
        "\n",
        "# Ordenamos la lista de productos por precio\n",
        "    sorted_products = sorted(product_list, key=get_price)\n",
        "    cheapest = sorted_products[0]\n",
        "    most_expensive = sorted_products[-1]\n",
        "    return cheapest, most_expensive\n",
        "\n",
        "cheapest_product, most_expensive_product = product_price_analysis(products)\n",
        "\n",
        "# Outputs\n",
        "# Mostrar el producto más barato y el más costoso\n",
        "print(f\"Cheapest: {cheapest_product[0]} - ${cheapest_product[1]:.2f}\")\n",
        "print(f\"Most expensive: {most_expensive_product[0]} - ${most_expensive_product[1]:.2f}\")"
      ],
      "metadata": {
        "id": "dTuNLyUSeomD",
        "colab": {
          "base_uri": "https://localhost:8080/"
        },
        "outputId": "e226b826-6816-4c94-f438-94e02a8bcaba"
      },
      "execution_count": null,
      "outputs": [
        {
          "output_type": "stream",
          "name": "stdout",
          "text": [
            "Cheapest: Audífonos - $60.00\n",
            "Most expensive: Tablet - $600.00\n"
          ]
        }
      ]
    }
  ],
  "metadata": {
    "colab": {
      "provenance": [],
      "authorship_tag": "ABX9TyPNWSOI5Wv3PHJfHaCYZdMM",
      "include_colab_link": true
    },
    "kernelspec": {
      "display_name": "Python 3",
      "name": "python3"
    },
    "language_info": {
      "name": "python"
    }
  },
  "nbformat": 4,
  "nbformat_minor": 0
}