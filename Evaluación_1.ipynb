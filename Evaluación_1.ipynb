{
  "cells": [
    {
      "cell_type": "markdown",
      "metadata": {
        "id": "view-in-github",
        "colab_type": "text"
      },
      "source": [
        "<a href=\"https://colab.research.google.com/github/Samuel-Gonzalez22/Evaluaciones-Python/blob/main/Evaluaci%C3%B3n_1.ipynb\" target=\"_parent\"><img src=\"https://colab.research.google.com/assets/colab-badge.svg\" alt=\"Open In Colab\"/></a>"
      ]
    },
    {
      "cell_type": "markdown",
      "source": [
        "# Evaluación 1\n",
        "## Python Aplicado a la Ingeniería\n",
        "\n",
        "**Docente:** Miguel Ortiz\n",
        "\n",
        "**Estudiante:** Samuel González\n",
        "\n",
        "**Correo:** samuel.gonzalezn@upb.edu.co\n",
        "\n",
        "**Fecha:** 21/07/25"
      ],
      "metadata": {
        "id": "wp3spMZnR0WX"
      }
    },
    {
      "cell_type": "markdown",
      "source": [
        "**Problema 1:** Reggaeton de Melquiades\n",
        "\n",
        "Escriba un programa que genere una canción de Reggaeton utilizando el algoritmo de Melquiades"
      ],
      "metadata": {
        "id": "wJPYqbW0VWQq"
      }
    },
    {
      "cell_type": "code",
      "source": [
        "import random\n",
        "\n",
        "subject = [\"Mami\", \"Bebé\", \"Princess\"]\n",
        "intention = [\"yo quiero\", \"yo puedo\", \"yo vengo a\", \"voy a\"]\n",
        "action = [\"encendelte\", \"amalte\", \"ligar\", \"jugar\"]\n",
        "adjective = [\"suave\", \"lento\", \"rápido\", \"fuerte\"]\n",
        "compl_1 = [\"hasta que salga el sol\", \"toda la noche\", \"hasta el amanecer\", \"todo el día\"]\n",
        "compl_2 = [\"sin anestecia\", \"sin compromiso\", \"feis to feis\", \"sin miedo\"]\n",
        "\n",
        "elements = [subject, intention, action, adjective, compl_1, compl_2]\n",
        "\n",
        "song = \"\"\n",
        "for element in elements:\n",
        "    song += random.choice(element) + \" \"\n",
        "\n",
        "print(song)"
      ],
      "metadata": {
        "colab": {
          "base_uri": "https://localhost:8080/"
        },
        "id": "tZNfqwLyVlhX",
        "outputId": "cd30a058-c2b0-4f3a-b478-03185340d866"
      },
      "execution_count": 1,
      "outputs": [
        {
          "output_type": "stream",
          "name": "stdout",
          "text": [
            "Princess yo puedo ligar lento toda la noche sin anestecia \n"
          ]
        }
      ]
    }
  ],
  "metadata": {
    "colab": {
      "provenance": [],
      "authorship_tag": "ABX9TyMXZSRzBz/B33i+CRQ8I7sB",
      "include_colab_link": true
    },
    "kernelspec": {
      "display_name": "Python 3",
      "name": "python3"
    },
    "language_info": {
      "name": "python"
    }
  },
  "nbformat": 4,
  "nbformat_minor": 0
}